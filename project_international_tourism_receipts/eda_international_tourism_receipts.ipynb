{
 "cells": [
  {
   "attachments": {},
   "cell_type": "markdown",
   "metadata": {},
   "source": [
    "# Attempting to Quantify What makes a Soccer Star on Fifa Player's Ratings Dataset\n",
    "\n",
    "The dataset was obtained from Kaggle repo https://www.kaggle.com/datasets/abdulhamitcelik/international-tourism-receipts/code. "
   ]
  }
 ],
 "metadata": {
  "language_info": {
   "name": "python"
  },
  "orig_nbformat": 4
 },
 "nbformat": 4,
 "nbformat_minor": 2
}
