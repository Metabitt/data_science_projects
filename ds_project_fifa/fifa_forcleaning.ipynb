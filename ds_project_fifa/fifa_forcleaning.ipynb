{
 "cells": [
  {
   "cell_type": "code",
   "execution_count": null,
   "metadata": {},
   "outputs": [],
   "source": [
    "# This Python 3 environment \n",
    "\n",
    "import numpy as np # linear algebra\n",
    "import pandas as pd # data processing, CSV file I/O (e.g. pd.read_csv)\n"
   ]
  },
  {
   "cell_type": "code",
   "execution_count": null,
   "metadata": {},
   "outputs": [],
   "source": [
    "import matplotlib.pyplot as plt\n",
    "from matplotlib.pyplot import figure #to plot the graphs\n",
    "import seaborn as sb\n",
    "import io\n",
    "%matplotlib inline"
   ]
  },
  {
   "cell_type": "code",
   "execution_count": null,
   "metadata": {},
   "outputs": [],
   "source": [
    "\n",
    "# this code is used to read a cleaned FIFA players' dataset in CSV format and store it as a Pandas DataFrame for further data analysis and processing.\n",
    "df_fifa = pd.read_csv('./fifa_cleaned.csv')\n",
    "print(\"Data cargada\")"
   ]
  },
  {
   "cell_type": "code",
   "execution_count": null,
   "metadata": {},
   "outputs": [],
   "source": [
    "pd.set_option('display.max_columns', None)\n",
    "df_fifa.head(3)"
   ]
  },
  {
   "cell_type": "code",
   "execution_count": null,
   "metadata": {},
   "outputs": [],
   "source": [
    "df_fifa.describe()"
   ]
  },
  {
   "cell_type": "code",
   "execution_count": null,
   "metadata": {},
   "outputs": [],
   "source": [
    "#We will explore the DB and see the Null values it has\n",
    "pd.set_option('display.max_rows', None)\n",
    "df_fifa.info()\n",
    "#df_fifa.describe()\n",
    "#df_fifa.shape\n",
    "#df_fifa.columns\n",
    "#df_fifa.value_counts()\n",
    "df_fifa.isna().sum()"
   ]
  },
  {
   "cell_type": "code",
   "execution_count": null,
   "metadata": {},
   "outputs": [],
   "source": [
    "#We are dropping the most uncompleted labels in order to have the most accurate data (00857/15889/17954) has/min/total values\n",
    "columns_to_drop = [col for col in df_fifa.columns if col.startswith('national_') or col in ['tags', 'traits']]\n",
    "df_working = df_fifa.drop(columns=columns_to_drop)\n",
    "\n",
    "## incompleted 15889/17954\n",
    "#player_positions \n",
    "\n",
    "## incompleted 17699/17954\n",
    "# player_labels_wage"
   ]
  },
  {
   "cell_type": "code",
   "execution_count": null,
   "metadata": {},
   "outputs": [],
   "source": [
    "#This line fills missing values in columns with object data type with the most frequent value in that column. \n",
    "# mode() finds the most frequent value and iloc[0] returns the first value in the resulting Series.\n",
    "df_working = df_working.fillna(df_working.select_dtypes(include=['object']).mode().iloc[0])\n",
    "\n",
    "# These lines calculate the mean of the 'club_jersey_number' and 'club_rating' columns.\n",
    "mean_club_jersey_number = df_working['club_jersey_number'].mean()\n",
    "mean_club_rating = df_working['club_rating'].mean()\n",
    "\n",
    "#These lines fill the missing values in the 'club_jersey_number' and 'club_rating' columns with their respective mean.\n",
    "df_working['club_jersey_number'] = df_working['club_jersey_number'].fillna(mean_club_jersey_number)\n",
    "df_working['club_rating'] = df_working['club_rating'].fillna(mean_club_rating)\n",
    "\n",
    "df_working.info()"
   ]
  },
  {
   "cell_type": "code",
   "execution_count": null,
   "metadata": {},
   "outputs": [],
   "source": []
  },
  {
   "cell_type": "code",
   "execution_count": null,
   "metadata": {},
   "outputs": [],
   "source": []
  },
  {
   "cell_type": "code",
   "execution_count": null,
   "metadata": {},
   "outputs": [],
   "source": []
  },
  {
   "cell_type": "code",
   "execution_count": null,
   "metadata": {},
   "outputs": [],
   "source": []
  }
 ],
 "metadata": {
  "language_info": {
   "name": "python"
  },
  "orig_nbformat": 4
 },
 "nbformat": 4,
 "nbformat_minor": 2
}
